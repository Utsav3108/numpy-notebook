{
 "cells": [
  {
   "attachments": {},
   "cell_type": "markdown",
   "metadata": {},
   "source": [
    "# This are the practice problems from `Geeks for Geeks` on Numpy Matrix\n",
    "<a href=\"https://www.geeksforgeeks.org/python-numpy-practice-exercises-questions-and-solutions/\">Numpy Matrix Problems</a>"
   ]
  },
  {
   "attachments": {},
   "cell_type": "markdown",
   "metadata": {},
   "source": [
    "### Let's Import Numpy first"
   ]
  },
  {
   "cell_type": "code",
   "execution_count": 1,
   "metadata": {},
   "outputs": [],
   "source": [
    "import numpy as np"
   ]
  },
  {
   "attachments": {},
   "cell_type": "markdown",
   "metadata": {},
   "source": [
    "### Get the maximum value from given matrix"
   ]
  },
  {
   "cell_type": "code",
   "execution_count": 4,
   "metadata": {},
   "outputs": [
    {
     "data": {
      "text/plain": [
       "6"
      ]
     },
     "execution_count": 4,
     "metadata": {},
     "output_type": "execute_result"
    }
   ],
   "source": [
    "mat = np.matrix('[3,4,5,6]')\n",
    "mat.max()"
   ]
  },
  {
   "attachments": {},
   "cell_type": "markdown",
   "metadata": {},
   "source": [
    "### Get the minimum value from given matrix"
   ]
  },
  {
   "cell_type": "code",
   "execution_count": 5,
   "metadata": {},
   "outputs": [
    {
     "data": {
      "text/plain": [
       "3"
      ]
     },
     "execution_count": 5,
     "metadata": {},
     "output_type": "execute_result"
    }
   ],
   "source": [
    "mat.min()"
   ]
  },
  {
   "attachments": {},
   "cell_type": "markdown",
   "metadata": {},
   "source": [
    "### Find the number of rows and columns of a given matrix using NumPy"
   ]
  },
  {
   "cell_type": "code",
   "execution_count": 6,
   "metadata": {},
   "outputs": [
    {
     "data": {
      "text/plain": [
       "(1, 4)"
      ]
     },
     "execution_count": 6,
     "metadata": {},
     "output_type": "execute_result"
    }
   ],
   "source": [
    "mat.shape"
   ]
  },
  {
   "attachments": {},
   "cell_type": "markdown",
   "metadata": {},
   "source": [
    "### Select the elements from given matrix"
   ]
  },
  {
   "cell_type": "code",
   "execution_count": 12,
   "metadata": {},
   "outputs": [
    {
     "data": {
      "text/plain": [
       "matrix([[6]])"
      ]
     },
     "execution_count": 12,
     "metadata": {},
     "output_type": "execute_result"
    }
   ],
   "source": [
    "mat.take(3,axis=1)"
   ]
  },
  {
   "attachments": {},
   "cell_type": "markdown",
   "metadata": {},
   "source": [
    "### Find the sum of value in matrix"
   ]
  },
  {
   "cell_type": "code",
   "execution_count": 13,
   "metadata": {},
   "outputs": [
    {
     "data": {
      "text/plain": [
       "18"
      ]
     },
     "execution_count": 13,
     "metadata": {},
     "output_type": "execute_result"
    }
   ],
   "source": [
    "mat.sum()"
   ]
  },
  {
   "attachments": {},
   "cell_type": "markdown",
   "metadata": {},
   "source": [
    "### Find the sum of diagonal value of a matrix"
   ]
  },
  {
   "cell_type": "code",
   "execution_count": 49,
   "metadata": {},
   "outputs": [
    {
     "data": {
      "text/plain": [
       "7"
      ]
     },
     "execution_count": 49,
     "metadata": {},
     "output_type": "execute_result"
    }
   ],
   "source": [
    "# There are two methods to approach this problem\n",
    "\n",
    "# method : 1 by using .trace function of Numpy\n",
    "\n",
    "arr = np.array([[5,6,7],[1,2,3],[8,9,0]])\n",
    "\n",
    "arr.trace()\n"
   ]
  },
  {
   "cell_type": "code",
   "execution_count": 48,
   "metadata": {},
   "outputs": [
    {
     "data": {
      "text/plain": [
       "7"
      ]
     },
     "execution_count": 48,
     "metadata": {},
     "output_type": "execute_result"
    }
   ],
   "source": [
    "# method : 2 by using .diagonal function of Numpy\n",
    "\n",
    "sum(arr.diagonal())\n"
   ]
  },
  {
   "attachments": {},
   "cell_type": "markdown",
   "metadata": {},
   "source": [
    "### Adding and Subtracting Matrices in Python"
   ]
  },
  {
   "cell_type": "code",
   "execution_count": 50,
   "metadata": {},
   "outputs": [
    {
     "data": {
      "text/plain": [
       "array([[20, 28, 77],\n",
       "       [67, 45, 77],\n",
       "       [12, 20, 26]])"
      ]
     },
     "execution_count": 50,
     "metadata": {},
     "output_type": "execute_result"
    }
   ],
   "source": [
    "mat1 = np.array([[5,4,7],[6,4,7],[1,5,8]])\n",
    "mat2 = np.array([[15,24,70],[61,41,70],[11,15,18]])\n",
    "\n",
    "mat1 + mat2"
   ]
  },
  {
   "cell_type": "code",
   "execution_count": 51,
   "metadata": {},
   "outputs": [
    {
     "data": {
      "text/plain": [
       "array([[-10, -20, -63],\n",
       "       [-55, -37, -63],\n",
       "       [-10, -10, -10]])"
      ]
     },
     "execution_count": 51,
     "metadata": {},
     "output_type": "execute_result"
    }
   ],
   "source": [
    "mat1 - mat2"
   ]
  },
  {
   "cell_type": "code",
   "execution_count": 57,
   "metadata": {},
   "outputs": [
    {
     "name": "stdout",
     "output_type": "stream",
     "text": [
      "[[20 28 77]\n",
      " [67 45 77]\n",
      " [12 20 26]]\n",
      "\n",
      "[[-10 -20 -63]\n",
      " [-55 -37 -63]\n",
      " [-10 -10 -10]]\n"
     ]
    }
   ],
   "source": [
    "print(np.add(mat1, mat2),end='\\n\\n')\n",
    "print(np.subtract(mat1, mat2))"
   ]
  },
  {
   "attachments": {},
   "cell_type": "markdown",
   "metadata": {},
   "source": [
    "### Ways to add row/columns in numpy array"
   ]
  },
  {
   "cell_type": "code",
   "execution_count": 66,
   "metadata": {},
   "outputs": [
    {
     "data": {
      "text/plain": [
       "(6, 3)"
      ]
     },
     "execution_count": 66,
     "metadata": {},
     "output_type": "execute_result"
    }
   ],
   "source": [
    "np.vstack((mat1,mat2)).shape"
   ]
  },
  {
   "attachments": {},
   "cell_type": "markdown",
   "metadata": {},
   "source": [
    "### Matrix Multiplication in NumPy"
   ]
  },
  {
   "cell_type": "code",
   "execution_count": 67,
   "metadata": {},
   "outputs": [
    {
     "data": {
      "text/plain": [
       "array([[ 75,  96, 490],\n",
       "       [366, 164, 490],\n",
       "       [ 11,  75, 144]])"
      ]
     },
     "execution_count": 67,
     "metadata": {},
     "output_type": "execute_result"
    }
   ],
   "source": [
    "np.multiply(mat1, mat2)"
   ]
  },
  {
   "attachments": {},
   "cell_type": "markdown",
   "metadata": {},
   "source": [
    "### Get the eigen values of a matrix"
   ]
  },
  {
   "cell_type": "code",
   "execution_count": 70,
   "metadata": {},
   "outputs": [
    {
     "data": {
      "text/plain": [
       "array([93.93975723 +0.j        , -9.96987862+10.61779046j,\n",
       "       -9.96987862-10.61779046j])"
      ]
     },
     "execution_count": 70,
     "metadata": {},
     "output_type": "execute_result"
    }
   ],
   "source": [
    "np.linalg.eigvals(mat2)"
   ]
  },
  {
   "attachments": {},
   "cell_type": "markdown",
   "metadata": {},
   "source": [
    "### How get a determinant of matrix"
   ]
  },
  {
   "cell_type": "code",
   "execution_count": 72,
   "metadata": {},
   "outputs": [
    {
     "data": {
      "text/plain": [
       "19927.999999999996"
      ]
     },
     "execution_count": 72,
     "metadata": {},
     "output_type": "execute_result"
    }
   ],
   "source": [
    "np.linalg.det(mat2)"
   ]
  },
  {
   "attachments": {},
   "cell_type": "markdown",
   "metadata": {},
   "source": [
    "### How to get the inverse of a matrix"
   ]
  },
  {
   "cell_type": "code",
   "execution_count": 73,
   "metadata": {},
   "outputs": [
    {
     "data": {
      "text/plain": [
       "array([[-1.00000000e+00,  1.00000000e+00,  2.96059473e-16],\n",
       "       [-1.36666667e+01,  1.10000000e+01,  2.33333333e+00],\n",
       "       [ 8.66666667e+00, -7.00000000e+00, -1.33333333e+00]])"
      ]
     },
     "execution_count": 73,
     "metadata": {},
     "output_type": "execute_result"
    }
   ],
   "source": [
    "np.linalg.inv(mat1)"
   ]
  },
  {
   "attachments": {},
   "cell_type": "markdown",
   "metadata": {},
   "source": [
    "### How to count the frequency of unique values in NumPy array?"
   ]
  },
  {
   "cell_type": "code",
   "execution_count": 97,
   "metadata": {},
   "outputs": [
    {
     "data": {
      "text/plain": [
       "array([[5, 4, 7],\n",
       "       [6, 4, 7],\n",
       "       [1, 5, 8]])"
      ]
     },
     "execution_count": 97,
     "metadata": {},
     "output_type": "execute_result"
    }
   ],
   "source": [
    "mat1"
   ]
  },
  {
   "cell_type": "code",
   "execution_count": 102,
   "metadata": {},
   "outputs": [
    {
     "data": {
      "text/plain": [
       "0    0\n",
       "1    1\n",
       "2    0\n",
       "3    0\n",
       "4    2\n",
       "5    2\n",
       "6    1\n",
       "7    2\n",
       "8    1\n",
       "dtype: int64"
      ]
     },
     "execution_count": 102,
     "metadata": {},
     "output_type": "execute_result"
    }
   ],
   "source": [
    "# This is hard-coded method\n",
    "import pandas as pd\n",
    "\n",
    "# First let's find out occurences at each level\n",
    "sum1 = np.bincount(mat1[0]) + np.bincount(mat1[1])\n",
    "\n",
    "# appended 0 to maintain the shape with third row\n",
    "sum1 = np.append(sum1,[0])\n",
    "\n",
    "# Again do the sum\n",
    "sum2 = sum1 + np.bincount(mat1[2])\n",
    "\n",
    "# Using Pandas Series to accurately show the frequency of each no. occured\n",
    "pd.Series(sum2, index=range(len(sum2)))"
   ]
  },
  {
   "cell_type": "code",
   "execution_count": 104,
   "metadata": {},
   "outputs": [
    {
     "data": {
      "text/plain": [
       "(array([1, 4, 5, 6, 7, 8]), array([1, 2, 2, 1, 2, 1], dtype=int64))"
      ]
     },
     "execution_count": 104,
     "metadata": {},
     "output_type": "execute_result"
    }
   ],
   "source": [
    "# method 2 : with the use of Numpy\n",
    "np.unique(mat1,return_counts=True)"
   ]
  },
  {
   "attachments": {},
   "cell_type": "markdown",
   "metadata": {},
   "source": [
    "### Multiply matrices of complex numbers using NumPy in Python"
   ]
  },
  {
   "cell_type": "code",
   "execution_count": 109,
   "metadata": {},
   "outputs": [
    {
     "data": {
      "text/plain": [
       "(111+0j)"
      ]
     },
     "execution_count": 109,
     "metadata": {},
     "output_type": "execute_result"
    }
   ],
   "source": [
    "cmat1 = np.array([4,5,6,7],dtype=complex)\n",
    "cmat2 = np.array([5,3,8,4],dtype=complex)\n",
    "\n",
    "np.vdot(cmat1,cmat2)"
   ]
  },
  {
   "attachments": {},
   "cell_type": "markdown",
   "metadata": {},
   "source": [
    "### Compute the outer, inner and cross product of two given vectors using NumPy in Python"
   ]
  },
  {
   "cell_type": "code",
   "execution_count": 110,
   "metadata": {},
   "outputs": [
    {
     "data": {
      "text/plain": [
       "array([[20.+0.j, 12.+0.j, 32.+0.j, 16.+0.j],\n",
       "       [25.+0.j, 15.+0.j, 40.+0.j, 20.+0.j],\n",
       "       [30.+0.j, 18.+0.j, 48.+0.j, 24.+0.j],\n",
       "       [35.+0.j, 21.+0.j, 56.+0.j, 28.+0.j]])"
      ]
     },
     "execution_count": 110,
     "metadata": {},
     "output_type": "execute_result"
    }
   ],
   "source": [
    "np.outer(cmat1,cmat2)"
   ]
  },
  {
   "cell_type": "code",
   "execution_count": 111,
   "metadata": {},
   "outputs": [
    {
     "data": {
      "text/plain": [
       "(111+0j)"
      ]
     },
     "execution_count": 111,
     "metadata": {},
     "output_type": "execute_result"
    }
   ],
   "source": [
    "np.inner(cmat1,cmat2)"
   ]
  },
  {
   "cell_type": "code",
   "execution_count": 117,
   "metadata": {},
   "outputs": [
    {
     "data": {
      "text/plain": [
       "array([-13.+0.j, -32.+0.j])"
      ]
     },
     "execution_count": 117,
     "metadata": {},
     "output_type": "execute_result"
    }
   ],
   "source": [
    "# As Cross Product can be implemented only on matrices with dimension greater than 2\n",
    "cmat1 = cmat1.reshape((2,2))\n",
    "cmat2 = cmat2.reshape((2,2))\n",
    "\n",
    "np.cross(cmat1,cmat2)"
   ]
  },
  {
   "attachments": {},
   "cell_type": "markdown",
   "metadata": {},
   "source": [
    "### Covariance in numpy"
   ]
  },
  {
   "cell_type": "code",
   "execution_count": 118,
   "metadata": {},
   "outputs": [
    {
     "data": {
      "text/plain": [
       "array([[  2.33333333,   2.16666667,   3.16666667,  39.83333333,\n",
       "         20.83333333,   3.16666667],\n",
       "       [  2.16666667,   2.33333333,   1.33333333,  29.16666667,\n",
       "         22.66666667,   1.33333333],\n",
       "       [  3.16666667,   1.33333333,  12.33333333,  93.16666667,\n",
       "         11.66666667,  12.33333333],\n",
       "       [ 39.83333333,  29.16666667,  93.16666667, 870.33333333,\n",
       "        274.83333333,  93.16666667],\n",
       "       [ 20.83333333,  22.66666667,  11.66666667, 274.83333333,\n",
       "        220.33333333,  11.66666667],\n",
       "       [  3.16666667,   1.33333333,  12.33333333,  93.16666667,\n",
       "         11.66666667,  12.33333333]])"
      ]
     },
     "execution_count": 118,
     "metadata": {},
     "output_type": "execute_result"
    }
   ],
   "source": [
    "np.cov(mat1,mat2)"
   ]
  },
  {
   "attachments": {},
   "cell_type": "markdown",
   "metadata": {},
   "source": [
    "### Getting Correlation from Covariance matrix"
   ]
  },
  {
   "cell_type": "code",
   "execution_count": 123,
   "metadata": {},
   "outputs": [
    {
     "data": {
      "text/plain": [
       "array([[1.        , 0.92857143, 0.59030128, 0.88392507, 0.91881964,\n",
       "        0.59030128],\n",
       "       [0.92857143, 1.        , 0.24854791, 0.64722547, 0.99967576,\n",
       "        0.24854791],\n",
       "       [0.59030128, 0.24854791, 1.        , 0.89924393, 0.22380328,\n",
       "        1.        ],\n",
       "       [0.88392507, 0.64722547, 0.89924393, 1.        , 0.62760514,\n",
       "        0.89924393],\n",
       "       [0.91881964, 0.99967576, 0.22380328, 0.62760514, 1.        ,\n",
       "        0.22380328],\n",
       "       [0.59030128, 0.24854791, 1.        , 0.89924393, 0.22380328,\n",
       "        1.        ]])"
      ]
     },
     "execution_count": 123,
     "metadata": {},
     "output_type": "execute_result"
    }
   ],
   "source": [
    "np.corrcoef(mat1,mat2)"
   ]
  },
  {
   "attachments": {},
   "cell_type": "markdown",
   "metadata": {},
   "source": [
    "### Getting Kronecker Product"
   ]
  },
  {
   "cell_type": "code",
   "execution_count": 124,
   "metadata": {},
   "outputs": [
    {
     "data": {
      "text/plain": [
       "array([[ 75, 120, 350,  60,  96, 280, 105, 168, 490],\n",
       "       [305, 205, 350, 244, 164, 280, 427, 287, 490],\n",
       "       [ 55,  75,  90,  44,  60,  72,  77, 105, 126],\n",
       "       [ 90, 144, 420,  60,  96, 280, 105, 168, 490],\n",
       "       [366, 246, 420, 244, 164, 280, 427, 287, 490],\n",
       "       [ 66,  90, 108,  44,  60,  72,  77, 105, 126],\n",
       "       [ 15,  24,  70,  75, 120, 350, 120, 192, 560],\n",
       "       [ 61,  41,  70, 305, 205, 350, 488, 328, 560],\n",
       "       [ 11,  15,  18,  55,  75,  90,  88, 120, 144]])"
      ]
     },
     "execution_count": 124,
     "metadata": {},
     "output_type": "execute_result"
    }
   ],
   "source": [
    "np.kron(mat1,mat2)"
   ]
  },
  {
   "cell_type": "code",
   "execution_count": 125,
   "metadata": {},
   "outputs": [
    {
     "data": {
      "text/plain": [
       "[[5, 4, 7], [6, 4, 7], [1, 5, 8]]"
      ]
     },
     "execution_count": 125,
     "metadata": {},
     "output_type": "execute_result"
    }
   ],
   "source": [
    "mat1.tolist()"
   ]
  },
  {
   "cell_type": "code",
   "execution_count": null,
   "metadata": {},
   "outputs": [],
   "source": []
  }
 ],
 "metadata": {
  "kernelspec": {
   "display_name": "Python 3",
   "language": "python",
   "name": "python3"
  },
  "language_info": {
   "codemirror_mode": {
    "name": "ipython",
    "version": 3
   },
   "file_extension": ".py",
   "mimetype": "text/x-python",
   "name": "python",
   "nbconvert_exporter": "python",
   "pygments_lexer": "ipython3",
   "version": "3.9.6"
  },
  "orig_nbformat": 4
 },
 "nbformat": 4,
 "nbformat_minor": 2
}
